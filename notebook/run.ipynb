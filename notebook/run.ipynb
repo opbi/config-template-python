{
 "cells": [
  {
   "cell_type": "code",
   "execution_count": null,
   "metadata": {},
   "outputs": [],
   "source": [
    "\"\"\"Universal Config Code.\"\"\"\n",
    "\n",
    "# enable autoreload to automatically reload modules\n",
    "%reload_ext autoreload\n",
    "%autoreload 2\n",
    "\n",
    "import os\n",
    "\n",
    "# run this once to set the project root as the working directory\n",
    "if os.path.basename(os.getcwd()) == \"notebook\":\n",
    "    os.chdir(\"..\")\n",
    "\n",
    "os.getcwd()\n"
   ]
  },
  {
   "cell_type": "code",
   "execution_count": null,
   "metadata": {},
   "outputs": [],
   "source": [
    "from subprocess import run\n",
    "\n",
    "run(  # noqa: S603\n",
    "    [\n",
    "        \"python\",\n",
    "        \"-m\",\n",
    "        \"src\",\n",
    "        \"get_order\",\n",
    "        \"--order_id\",\n",
    "        \"1\",\n",
    "        \"--output_file\",\n",
    "        \"./output/order.json\",\n",
    "        \"--save_to_storage\",\n",
    "        \"True\",\n",
    "    ],\n",
    "    check=True,\n",
    ")"
   ]
  },
  {
   "cell_type": "code",
   "execution_count": null,
   "metadata": {},
   "outputs": [],
   "source": [
    "import json\n",
    "from subprocess import run\n",
    "\n",
    "order_data = json.dumps({\"order_id\": \"1\", \"order\": {\"lamb\": 1, \"beef\": 1}})\n",
    "\n",
    "print(order_data)\n",
    "\n",
    "run(  # noqa: S603\n",
    "    [\n",
    "        \"python\",\n",
    "        \"-m\",\n",
    "        \"src\",\n",
    "        \"get_bill\",\n",
    "        \"--order_data\",\n",
    "        order_data,\n",
    "        \"--output_file\",\n",
    "        \"./output/bill.json\",\n",
    "        \"--save_to_storage\",\n",
    "        \"True\",\n",
    "    ],\n",
    "    check=True,\n",
    ")"
   ]
  }
 ],
 "metadata": {
  "kernelspec": {
   "display_name": ".venv",
   "language": "python",
   "name": "python3"
  },
  "language_info": {
   "codemirror_mode": {
    "name": "ipython",
    "version": 3
   },
   "file_extension": ".py",
   "mimetype": "text/x-python",
   "name": "python",
   "nbconvert_exporter": "python",
   "pygments_lexer": "ipython3",
   "version": "3.10.14"
  }
 },
 "nbformat": 4,
 "nbformat_minor": 2
}
